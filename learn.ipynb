{
 "cells": [
  {
   "cell_type": "code",
   "execution_count": 1,
   "metadata": {
    "collapsed": false,
    "deletable": true,
    "editable": true
   },
   "outputs": [],
   "source": [
    "import torch\n",
    "import torch.nn as nn\n",
    "import numpy as np\n",
    "import matplotlib.pyplot as plt\n",
    "from torch.autograd import Variable\n"
   ]
  },
  {
   "cell_type": "code",
   "execution_count": 2,
   "metadata": {
    "collapsed": true,
    "deletable": true,
    "editable": true
   },
   "outputs": [],
   "source": [
    "input_size = 1\n",
    "output_size = 1\n",
    "num_epochs = 60\n",
    "learning_rate = 0.001\n"
   ]
  },
  {
   "cell_type": "code",
   "execution_count": 3,
   "metadata": {
    "collapsed": true,
    "deletable": true,
    "editable": true
   },
   "outputs": [],
   "source": [
    "x_train = np.array([[3.3], [4.4], [5.5], [6.71], [6.93], [4.168], \n",
    "                    [9.779], [6.182], [7.59], [2.167], [7.042], \n",
    "                    [10.791], [5.313], [7.997], [3.1]], dtype=np.float32)\n",
    "\n",
    "y_train = np.array([[1.7], [2.76], [2.09], [3.19], [1.694], [1.573], \n",
    "                    [3.366], [2.596], [2.53], [1.221], [2.827], \n",
    "                    [3.465], [1.65], [2.904], [1.3]], dtype=np.float32)\n"
   ]
  },
  {
   "cell_type": "code",
   "execution_count": 4,
   "metadata": {
    "collapsed": true,
    "deletable": true,
    "editable": true
   },
   "outputs": [],
   "source": [
    "class LinearRegression(nn.Module):\n",
    "    def __init__(self, input_size, output_size):\n",
    "        super(LinearRegression, self).__init__()\n",
    "        self.linear = nn.Linear(input_size, output_size)  \n",
    "    \n",
    "    def forward(self, x):\n",
    "        out = self.linear(x)\n",
    "        return out\n",
    "    \n",
    "model = LinearRegression(input_size, output_size)\n",
    "\n",
    "# Loss and Optimizer\n",
    "criterion = nn.MSELoss()\n",
    "optimizer = torch.optim.SGD(model.parameters(), lr=learning_rate)  \n"
   ]
  },
  {
   "cell_type": "code",
   "execution_count": 5,
   "metadata": {
    "collapsed": false,
    "deletable": true,
    "editable": true
   },
   "outputs": [
    {
     "name": "stdout",
     "output_type": "stream",
     "text": [
      "Epoch [5/60], Loss: 4.9299\n",
      "Epoch [10/60], Loss: 2.1247\n",
      "Epoch [15/60], Loss: 0.9882\n",
      "Epoch [20/60], Loss: 0.5277\n",
      "Epoch [25/60], Loss: 0.3411\n",
      "Epoch [30/60], Loss: 0.2655\n",
      "Epoch [35/60], Loss: 0.2347\n",
      "Epoch [40/60], Loss: 0.2222\n",
      "Epoch [45/60], Loss: 0.2171\n",
      "Epoch [50/60], Loss: 0.2149\n",
      "Epoch [55/60], Loss: 0.2140\n",
      "Epoch [60/60], Loss: 0.2135\n"
     ]
    }
   ],
   "source": [
    "for epoch in range(num_epochs):\n",
    "    # Convert numpy array to torch Variable\n",
    "    inputs = Variable(torch.from_numpy(x_train))\n",
    "    targets = Variable(torch.from_numpy(y_train))\n",
    "\n",
    "    # Forward + Backward + Optimize\n",
    "    optimizer.zero_grad()  \n",
    "    outputs = model(inputs)\n",
    "    loss = criterion(outputs, targets)\n",
    "    loss.backward()\n",
    "    optimizer.step()\n",
    "    \n",
    "    if (epoch+1) % 5 == 0:\n",
    "        print ('Epoch [%d/%d], Loss: %.4f' \n",
    "               %(epoch+1, num_epochs, loss.data[0]))\n"
   ]
  },
  {
   "cell_type": "code",
   "execution_count": 6,
   "metadata": {
    "collapsed": false,
    "deletable": true,
    "editable": true
   },
   "outputs": [
    {
     "data": {
      "image/png": "[encoded data removed]",
      "text/plain": [
       "<matplotlib.figure.Figure at 0x10ca24cf8>"
      ]
     },
     "metadata": {},
     "output_type": "display_data"
    }
   ],
   "source": [
    "%matplotlib inline\n",
    "predicted = model(Variable(torch.from_numpy(x_train))).data.numpy()\n",
    "plt.plot(x_train, y_train, 'ro', label='Original data')\n",
    "plt.plot(x_train, predicted, label='Fitted line')\n",
    "plt.legend()\n",
    "plt.show()\n"
   ]
  },
  {
   "cell_type": "code",
   "execution_count": null,
   "metadata": {
    "collapsed": true,
    "deletable": true,
    "editable": true
   },
   "outputs": [],
   "source": [
    "torch.save(model.state_dict(), 'model.pkl')"
   ]
  },
  {
   "cell_type": "code",
   "execution_count": 7,
   "metadata": {
    "collapsed": true,
    "deletable": true,
    "editable": true
   },
   "outputs": [],
   "source": [
    "import torch\n",
    "import torch.nn as nn\n",
    "import torchvision.datasets as dsets\n",
    "import torchvision.transforms as transforms\n",
    "from torch.autograd import Variable\n"
   ]
  },
  {
   "cell_type": "code",
   "execution_count": 8,
   "metadata": {
    "collapsed": true,
    "deletable": true,
    "editable": true
   },
   "outputs": [],
   "source": [
    "# Hyper Parameters \n",
    "input_size = 784\n",
    "num_classes = 10\n",
    "num_epochs = 5\n",
    "batch_size = 100\n",
    "learning_rate = 0.001\n"
   ]
  },
  {
   "cell_type": "code",
   "execution_count": 9,
   "metadata": {
    "collapsed": false,
    "deletable": true,
    "editable": true
   },
   "outputs": [
    {
     "name": "stdout",
     "output_type": "stream",
     "text": [
      "Downloading http://yann.lecun.com/exdb/mnist/train-images-idx3-ubyte.gz\n",
      "Downloading http://yann.lecun.com/exdb/mnist/train-labels-idx1-ubyte.gz\n",
      "Downloading http://yann.lecun.com/exdb/mnist/t10k-images-idx3-ubyte.gz\n",
      "Downloading http://yann.lecun.com/exdb/mnist/t10k-labels-idx1-ubyte.gz\n",
      "Processing\n",
      "Done!\n"
     ]
    }
   ],
   "source": [
    "# MNIST Dataset (Images and Labels)\n",
    "train_dataset = dsets.MNIST(root='../data', \n",
    "                            train=True, \n",
    "                            transform=transforms.ToTensor(),\n",
    "                            download=True)\n"
   ]
  },
  {
   "cell_type": "code",
   "execution_count": 10,
   "metadata": {
    "collapsed": true,
    "deletable": true,
    "editable": true
   },
   "outputs": [],
   "source": [
    "test_dataset = dsets.MNIST(root='../data', \n",
    "                           train=False, \n",
    "                           transform=transforms.ToTensor())\n"
   ]
  },
  {
   "cell_type": "code",
   "execution_count": 11,
   "metadata": {
    "collapsed": true,
    "deletable": true,
    "editable": true
   },
   "outputs": [],
   "source": [
    "# Dataset Loader (Input Pipline)\n",
    "train_loader = torch.utils.data.DataLoader(dataset=train_dataset, \n",
    "                                           batch_size=batch_size, \n",
    "                                           shuffle=True)\n",
    "\n",
    "test_loader = torch.utils.data.DataLoader(dataset=test_dataset, \n",
    "                                          batch_size=batch_size, \n",
    "                                          shuffle=False)\n"
   ]
  },
  {
   "cell_type": "code",
   "execution_count": 12,
   "metadata": {
    "collapsed": true,
    "deletable": true,
    "editable": true
   },
   "outputs": [],
   "source": [
    "# Model\n",
    "class LogisticRegression(nn.Module):\n",
    "    def __init__(self, input_size, num_classes):\n",
    "        super(LogisticRegression, self).__init__()\n",
    "        self.linear = nn.Linear(input_size, num_classes)\n",
    "    \n",
    "    def forward(self, x):\n",
    "        out = self.linear(x)\n",
    "        return out\n",
    "\n"
   ]
  },
  {
   "cell_type": "code",
   "execution_count": 13,
   "metadata": {
    "collapsed": true,
    "deletable": true,
    "editable": true
   },
   "outputs": [],
   "source": [
    "model = LogisticRegression(input_size, num_classes)"
   ]
  },
  {
   "cell_type": "code",
   "execution_count": 14,
   "metadata": {
    "collapsed": true,
    "deletable": true,
    "editable": true
   },
   "outputs": [],
   "source": [
    "# Loss and Optimizer\n",
    "# Softmax is internally computed.\n",
    "# Set parameters to be updated.\n",
    "criterion = nn.CrossEntropyLoss()  \n",
    "optimizer = torch.optim.SGD(model.parameters(), lr=learning_rate)  \n"
   ]
  },
  {
   "cell_type": "code",
   "execution_count": 15,
   "metadata": {
    "collapsed": false,
    "deletable": true,
    "editable": true
   },
   "outputs": [
    {
     "name": "stdout",
     "output_type": "stream",
     "text": [
      "Epoch: [1/5], Step: [100/600], Loss: 2.1971\n",
      "Epoch: [1/5], Step: [200/600], Loss: 2.0845\n",
      "Epoch: [1/5], Step: [300/600], Loss: 2.0577\n",
      "Epoch: [1/5], Step: [400/600], Loss: 1.9803\n",
      "Epoch: [1/5], Step: [500/600], Loss: 1.8951\n",
      "Epoch: [1/5], Step: [600/600], Loss: 1.7557\n",
      "Epoch: [2/5], Step: [100/600], Loss: 1.7800\n",
      "Epoch: [2/5], Step: [200/600], Loss: 1.6423\n",
      "Epoch: [2/5], Step: [300/600], Loss: 1.6390\n",
      "Epoch: [2/5], Step: [400/600], Loss: 1.5582\n",
      "Epoch: [2/5], Step: [500/600], Loss: 1.5641\n",
      "Epoch: [2/5], Step: [600/600], Loss: 1.4426\n",
      "Epoch: [3/5], Step: [100/600], Loss: 1.4284\n",
      "Epoch: [3/5], Step: [200/600], Loss: 1.3471\n",
      "Epoch: [3/5], Step: [300/600], Loss: 1.3260\n",
      "Epoch: [3/5], Step: [400/600], Loss: 1.3668\n",
      "Epoch: [3/5], Step: [500/600], Loss: 1.2721\n",
      "Epoch: [3/5], Step: [600/600], Loss: 1.3012\n",
      "Epoch: [4/5], Step: [100/600], Loss: 1.1877\n",
      "Epoch: [4/5], Step: [200/600], Loss: 1.0875\n",
      "Epoch: [4/5], Step: [300/600], Loss: 1.2097\n",
      "Epoch: [4/5], Step: [400/600], Loss: 1.1151\n",
      "Epoch: [4/5], Step: [500/600], Loss: 1.0962\n",
      "Epoch: [4/5], Step: [600/600], Loss: 1.0404\n",
      "Epoch: [5/5], Step: [100/600], Loss: 0.9351\n",
      "Epoch: [5/5], Step: [200/600], Loss: 1.1062\n",
      "Epoch: [5/5], Step: [300/600], Loss: 1.1214\n",
      "Epoch: [5/5], Step: [400/600], Loss: 0.9551\n",
      "Epoch: [5/5], Step: [500/600], Loss: 1.1407\n",
      "Epoch: [5/5], Step: [600/600], Loss: 1.0021\n"
     ]
    }
   ],
   "source": [
    "# Training the Model\n",
    "for epoch in range(num_epochs):\n",
    "    for i, (images, labels) in enumerate(train_loader):\n",
    "        images = Variable(images.view(-1, 28*28))\n",
    "        labels = Variable(labels)\n",
    "        \n",
    "        # Forward + Backward + Optimize\n",
    "        optimizer.zero_grad()\n",
    "        outputs = model(images)\n",
    "        loss = criterion(outputs, labels)\n",
    "        loss.backward()\n",
    "        optimizer.step()\n",
    "        \n",
    "        if (i+1) % 100 == 0:\n",
    "            print ('Epoch: [%d/%d], Step: [%d/%d], Loss: %.4f' \n",
    "                   % (epoch+1, num_epochs, i+1, len(train_dataset)//batch_size, loss.data[0]))\n"
   ]
  },
  {
   "cell_type": "code",
   "execution_count": 16,
   "metadata": {
    "collapsed": false,
    "deletable": true,
    "editable": true
   },
   "outputs": [
    {
     "name": "stdout",
     "output_type": "stream",
     "text": [
      "Accuracy of the model on the 10000 test images: 82 %\n"
     ]
    }
   ],
   "source": [
    "# Test the Model\n",
    "correct = 0\n",
    "total = 0\n",
    "for images, labels in test_loader:\n",
    "    images = Variable(images.view(-1, 28*28))\n",
    "    outputs = model(images)\n",
    "    _, predicted = torch.max(outputs.data, 1)\n",
    "    total += labels.size(0)\n",
    "    correct += (predicted == labels).sum()\n",
    "    \n",
    "print('Accuracy of the model on the 10000 test images: %d %%' % (100 * correct / total))\n"
   ]
  },
  {
   "cell_type": "code",
   "execution_count": 17,
   "metadata": {
    "collapsed": true,
    "deletable": true,
    "editable": true
   },
   "outputs": [],
   "source": [
    "import torch\n",
    "import torch.nn as nn\n",
    "import torchvision.datasets as dsets\n",
    "import torchvision.transforms as transforms\n",
    "from torch.autograd import Variable\n"
   ]
  },
  {
   "cell_type": "code",
   "execution_count": 18,
   "metadata": {
    "collapsed": true,
    "deletable": true,
    "editable": true
   },
   "outputs": [],
   "source": [
    "# Hyper Parameters \n",
    "input_size = 784\n",
    "hidden_size = 500\n",
    "num_classes = 10\n",
    "num_epochs = 5\n",
    "batch_size = 100\n",
    "learning_rate = 0.001\n"
   ]
  },
  {
   "cell_type": "code",
   "execution_count": 19,
   "metadata": {
    "collapsed": false,
    "deletable": true,
    "editable": true
   },
   "outputs": [
    {
     "name": "stdout",
     "output_type": "stream",
     "text": [
      "Files already downloaded\n"
     ]
    }
   ],
   "source": [
    "# MNIST Dataset \n",
    "train_dataset = dsets.MNIST(root='../data', \n",
    "                            train=True, \n",
    "                            transform=transforms.ToTensor(),  \n",
    "                            download=True)\n",
    "\n",
    "test_dataset = dsets.MNIST(root='../data', \n",
    "                           train=False, \n",
    "                           transform=transforms.ToTensor())\n"
   ]
  },
  {
   "cell_type": "code",
   "execution_count": 20,
   "metadata": {
    "collapsed": true,
    "deletable": true,
    "editable": true
   },
   "outputs": [],
   "source": [
    "# Data Loader (Input Pipeline)\n",
    "train_loader = torch.utils.data.DataLoader(dataset=train_dataset, \n",
    "                                           batch_size=batch_size, \n",
    "                                           shuffle=True)\n",
    "\n",
    "test_loader = torch.utils.data.DataLoader(dataset=test_dataset, \n",
    "                                          batch_size=batch_size, \n",
    "                                          shuffle=False)\n"
   ]
  },
  {
   "cell_type": "code",
   "execution_count": 21,
   "metadata": {
    "collapsed": true,
    "deletable": true,
    "editable": true
   },
   "outputs": [],
   "source": [
    "# Neural Network Model (1 hidden layer)\n",
    "class Net(nn.Module):\n",
    "    def __init__(self, input_size, hidden_size, num_classes):\n",
    "        super(Net, self).__init__()\n",
    "        self.fc1 = nn.Linear(input_size, hidden_size) \n",
    "        self.relu = nn.ReLU()\n",
    "        self.fc2 = nn.Linear(hidden_size, num_classes)  \n",
    "    \n",
    "    def forward(self, x):\n",
    "        out = self.fc1(x)\n",
    "        out = self.relu(out)\n",
    "        out = self.fc2(out)\n",
    "        return out\n"
   ]
  },
  {
   "cell_type": "code",
   "execution_count": 22,
   "metadata": {
    "collapsed": true,
    "deletable": true,
    "editable": true
   },
   "outputs": [],
   "source": [
    "net = Net(input_size, hidden_size, num_classes)"
   ]
  },
  {
   "cell_type": "code",
   "execution_count": 23,
   "metadata": {
    "collapsed": true,
    "deletable": true,
    "editable": true
   },
   "outputs": [],
   "source": [
    "# Loss and Optimizer\n",
    "criterion = nn.CrossEntropyLoss()  \n",
    "optimizer = torch.optim.Adam(net.parameters(), lr=learning_rate)  "
   ]
  },
  {
   "cell_type": "code",
   "execution_count": 24,
   "metadata": {
    "collapsed": false,
    "deletable": true,
    "editable": true
   },
   "outputs": [
    {
     "name": "stdout",
     "output_type": "stream",
     "text": [
      "Epoch [1/5], Step [100/600], Loss: 0.2983\n",
      "Epoch [1/5], Step [200/600], Loss: 0.4855\n",
      "Epoch [1/5], Step [300/600], Loss: 0.2400\n",
      "Epoch [1/5], Step [400/600], Loss: 0.1754\n",
      "Epoch [1/5], Step [500/600], Loss: 0.1798\n",
      "Epoch [1/5], Step [600/600], Loss: 0.2138\n",
      "Epoch [2/5], Step [100/600], Loss: 0.0722\n",
      "Epoch [2/5], Step [200/600], Loss: 0.1377\n",
      "Epoch [2/5], Step [300/600], Loss: 0.0720\n",
      "Epoch [2/5], Step [400/600], Loss: 0.1191\n",
      "Epoch [2/5], Step [500/600], Loss: 0.0996\n",
      "Epoch [2/5], Step [600/600], Loss: 0.0550\n",
      "Epoch [3/5], Step [100/600], Loss: 0.0485\n",
      "Epoch [3/5], Step [200/600], Loss: 0.1127\n",
      "Epoch [3/5], Step [300/600], Loss: 0.0264\n",
      "Epoch [3/5], Step [400/600], Loss: 0.0451\n",
      "Epoch [3/5], Step [500/600], Loss: 0.0449\n",
      "Epoch [3/5], Step [600/600], Loss: 0.0612\n",
      "Epoch [4/5], Step [100/600], Loss: 0.0927\n",
      "Epoch [4/5], Step [200/600], Loss: 0.0198\n",
      "Epoch [4/5], Step [300/600], Loss: 0.0267\n",
      "Epoch [4/5], Step [400/600], Loss: 0.0781\n",
      "Epoch [4/5], Step [500/600], Loss: 0.1144\n",
      "Epoch [4/5], Step [600/600], Loss: 0.0676\n",
      "Epoch [5/5], Step [100/600], Loss: 0.0510\n",
      "Epoch [5/5], Step [200/600], Loss: 0.0664\n",
      "Epoch [5/5], Step [300/600], Loss: 0.0437\n",
      "Epoch [5/5], Step [400/600], Loss: 0.1134\n",
      "Epoch [5/5], Step [500/600], Loss: 0.0451\n",
      "Epoch [5/5], Step [600/600], Loss: 0.0710\n"
     ]
    }
   ],
   "source": [
    "# Train the Model\n",
    "for epoch in range(num_epochs):\n",
    "    for i, (images, labels) in enumerate(train_loader):  \n",
    "        # Convert torch tensor to Variable\n",
    "        images = Variable(images.view(-1, 28*28))\n",
    "        labels = Variable(labels)\n",
    "        \n",
    "        # Forward + Backward + Optimize\n",
    "        optimizer.zero_grad()  # zero the gradient buffer\n",
    "        outputs = net(images)\n",
    "        loss = criterion(outputs, labels)\n",
    "        loss.backward()\n",
    "        optimizer.step()\n",
    "        \n",
    "        if (i+1) % 100 == 0:\n",
    "            print ('Epoch [%d/%d], Step [%d/%d], Loss: %.4f' \n",
    "                   %(epoch+1, num_epochs, i+1, len(train_dataset)//batch_size, loss.data[0]))\n"
   ]
  },
  {
   "cell_type": "code",
   "execution_count": 25,
   "metadata": {
    "collapsed": false,
    "deletable": true,
    "editable": true
   },
   "outputs": [
    {
     "name": "stdout",
     "output_type": "stream",
     "text": [
      "Accuracy of the network on the 10000 test images: 97 %\n"
     ]
    }
   ],
   "source": [
    "# Test the Model\n",
    "correct = 0\n",
    "total = 0\n",
    "for images, labels in test_loader:\n",
    "    images = Variable(images.view(-1, 28*28))\n",
    "    outputs = net(images)\n",
    "    _, predicted = torch.max(outputs.data, 1)\n",
    "    total += labels.size(0)\n",
    "    correct += (predicted == labels).sum()\n",
    "\n",
    "print('Accuracy of the network on the 10000 test images: %d %%' % (100 * correct / total))\n"
   ]
  },
  {
   "cell_type": "code",
   "execution_count": 26,
   "metadata": {
    "collapsed": true,
    "deletable": true,
    "editable": true
   },
   "outputs": [],
   "source": [
    "import torch \n",
    "import torch.nn as nn\n",
    "import torchvision.datasets as dsets\n",
    "import torchvision.transforms as transforms\n",
    "from torch.autograd import Variable\n"
   ]
  },
  {
   "cell_type": "code",
   "execution_count": 27,
   "metadata": {
    "collapsed": true,
    "deletable": true,
    "editable": true
   },
   "outputs": [],
   "source": [
    "# Hyper Parameters\n",
    "num_epochs = 5\n",
    "batch_size = 100\n",
    "learning_rate = 0.001\n"
   ]
  },
  {
   "cell_type": "code",
   "execution_count": 28,
   "metadata": {
    "collapsed": false,
    "deletable": true,
    "editable": true
   },
   "outputs": [
    {
     "name": "stdout",
     "output_type": "stream",
     "text": [
      "Files already downloaded\n"
     ]
    }
   ],
   "source": [
    "# MNIST Dataset\n",
    "train_dataset = dsets.MNIST(root='../data/',\n",
    "                            train=True, \n",
    "                            transform=transforms.ToTensor(),\n",
    "                            download=True)\n",
    "\n",
    "test_dataset = dsets.MNIST(root='../data/',\n",
    "                           train=False, \n",
    "                           transform=transforms.ToTensor())\n"
   ]
  },
  {
   "cell_type": "code",
   "execution_count": 29,
   "metadata": {
    "collapsed": true,
    "deletable": true,
    "editable": true
   },
   "outputs": [],
   "source": [
    "# Data Loader (Input Pipeline)\n",
    "train_loader = torch.utils.data.DataLoader(dataset=train_dataset,\n",
    "                                           batch_size=batch_size, \n",
    "                                           shuffle=True)\n",
    "\n",
    "test_loader = torch.utils.data.DataLoader(dataset=test_dataset,\n",
    "                                          batch_size=batch_size, \n",
    "                                          shuffle=False)\n"
   ]
  },
  {
   "cell_type": "code",
   "execution_count": 30,
   "metadata": {
    "collapsed": true,
    "deletable": true,
    "editable": true
   },
   "outputs": [],
   "source": [
    "# CNN Model (2 conv layer)\n",
    "class CNN(nn.Module):\n",
    "    def __init__(self):\n",
    "        super(CNN, self).__init__()\n",
    "        self.layer1 = nn.Sequential(\n",
    "            nn.Conv2d(1, 16, kernel_size=5, padding=2),\n",
    "            nn.BatchNorm2d(16),\n",
    "            nn.ReLU(),\n",
    "            nn.MaxPool2d(2))\n",
    "        self.layer2 = nn.Sequential(\n",
    "            nn.Conv2d(16, 32, kernel_size=5, padding=2),\n",
    "            nn.BatchNorm2d(32),\n",
    "            nn.ReLU(),\n",
    "            nn.MaxPool2d(2))\n",
    "        self.fc = nn.Linear(7*7*32, 10)\n",
    "        \n",
    "    def forward(self, x):\n",
    "        out = self.layer1(x)\n",
    "        out = self.layer2(out)\n",
    "        out = out.view(out.size(0), -1)\n",
    "        out = self.fc(out)\n",
    "        return out\n"
   ]
  },
  {
   "cell_type": "code",
   "execution_count": 31,
   "metadata": {
    "collapsed": true,
    "deletable": true,
    "editable": true
   },
   "outputs": [],
   "source": [
    "cnn = CNN()\n"
   ]
  },
  {
   "cell_type": "code",
   "execution_count": 32,
   "metadata": {
    "collapsed": true,
    "deletable": true,
    "editable": true
   },
   "outputs": [],
   "source": [
    "# Loss and Optimizer\n",
    "criterion = nn.CrossEntropyLoss()\n",
    "optimizer = torch.optim.Adam(cnn.parameters(), lr=learning_rate)\n"
   ]
  },
  {
   "cell_type": "code",
   "execution_count": 33,
   "metadata": {
    "collapsed": false,
    "deletable": true,
    "editable": true
   },
   "outputs": [
    {
     "name": "stdout",
     "output_type": "stream",
     "text": [
      "Epoch [1/5], Iter [100/600] Loss: 0.2739\n",
      "Epoch [1/5], Iter [200/600] Loss: 0.1497\n",
      "Epoch [1/5], Iter [300/600] Loss: 0.0468\n",
      "Epoch [1/5], Iter [400/600] Loss: 0.0679\n",
      "Epoch [1/5], Iter [500/600] Loss: 0.0619\n",
      "Epoch [1/5], Iter [600/600] Loss: 0.0707\n",
      "Epoch [2/5], Iter [100/600] Loss: 0.0603\n",
      "Epoch [2/5], Iter [200/600] Loss: 0.0632\n",
      "Epoch [2/5], Iter [300/600] Loss: 0.0086\n",
      "Epoch [2/5], Iter [400/600] Loss: 0.0283\n",
      "Epoch [2/5], Iter [500/600] Loss: 0.1828\n",
      "Epoch [2/5], Iter [600/600] Loss: 0.0286\n",
      "Epoch [3/5], Iter [100/600] Loss: 0.0642\n",
      "Epoch [3/5], Iter [200/600] Loss: 0.0358\n",
      "Epoch [3/5], Iter [300/600] Loss: 0.0321\n",
      "Epoch [3/5], Iter [400/600] Loss: 0.0054\n",
      "Epoch [3/5], Iter [500/600] Loss: 0.0393\n",
      "Epoch [3/5], Iter [600/600] Loss: 0.0314\n",
      "Epoch [4/5], Iter [100/600] Loss: 0.0313\n",
      "Epoch [4/5], Iter [200/600] Loss: 0.0452\n",
      "Epoch [4/5], Iter [300/600] Loss: 0.0291\n",
      "Epoch [4/5], Iter [400/600] Loss: 0.0153\n",
      "Epoch [4/5], Iter [500/600] Loss: 0.0572\n",
      "Epoch [4/5], Iter [600/600] Loss: 0.0362\n",
      "Epoch [5/5], Iter [100/600] Loss: 0.0037\n",
      "Epoch [5/5], Iter [200/600] Loss: 0.0297\n",
      "Epoch [5/5], Iter [300/600] Loss: 0.0076\n",
      "Epoch [5/5], Iter [400/600] Loss: 0.0158\n",
      "Epoch [5/5], Iter [500/600] Loss: 0.0432\n",
      "Epoch [5/5], Iter [600/600] Loss: 0.0064\n"
     ]
    }
   ],
   "source": [
    "# Train the Model\n",
    "for epoch in range(num_epochs):\n",
    "    for i, (images, labels) in enumerate(train_loader):\n",
    "        images = Variable(images)\n",
    "        labels = Variable(labels)\n",
    "        \n",
    "        # Forward + Backward + Optimize\n",
    "        optimizer.zero_grad()\n",
    "        outputs = cnn(images)\n",
    "        loss = criterion(outputs, labels)\n",
    "        loss.backward()\n",
    "        optimizer.step()\n",
    "        \n",
    "        if (i+1) % 100 == 0:\n",
    "            print ('Epoch [%d/%d], Iter [%d/%d] Loss: %.4f' \n",
    "                   %(epoch+1, num_epochs, i+1, len(train_dataset)//batch_size, loss.data[0]))\n"
   ]
  },
  {
   "cell_type": "code",
   "execution_count": 34,
   "metadata": {
    "collapsed": false,
    "deletable": true,
    "editable": true
   },
   "outputs": [
    {
     "name": "stdout",
     "output_type": "stream",
     "text": [
      "Test Accuracy of the model on the 10000 test images: 99 %\n"
     ]
    }
   ],
   "source": [
    "# Test the Model\n",
    "cnn.eval()  # Change model to 'eval' mode (BN uses moving mean/var).\n",
    "correct = 0\n",
    "total = 0\n",
    "for images, labels in test_loader:\n",
    "    images = Variable(images)\n",
    "    outputs = cnn(images)\n",
    "    _, predicted = torch.max(outputs.data, 1)\n",
    "    total += labels.size(0)\n",
    "    correct += (predicted == labels).sum()\n",
    "\n",
    "print('Test Accuracy of the model on the 10000 test images: %d %%' % (100 * correct / total))\n"
   ]
  },
  {
   "cell_type": "code",
   "execution_count": 36,
   "metadata": {
    "collapsed": true,
    "deletable": true,
    "editable": true
   },
   "outputs": [],
   "source": [
    "# Implementation of https://arxiv.org/pdf/1512.03385.pdf.\n",
    "import torch \n",
    "import torch.nn as nn\n",
    "import torchvision.datasets as dsets\n",
    "import torchvision.transforms as transforms\n",
    "from torch.autograd import Variable\n"
   ]
  },
  {
   "cell_type": "code",
   "execution_count": 37,
   "metadata": {
    "collapsed": true,
    "deletable": true,
    "editable": true
   },
   "outputs": [],
   "source": [
    "# Image Preprocessing \n",
    "transform = transforms.Compose([\n",
    "    transforms.Scale(40),\n",
    "    transforms.RandomHorizontalFlip(),\n",
    "    transforms.RandomCrop(32),\n",
    "    transforms.ToTensor()])\n"
   ]
  },
  {
   "cell_type": "code",
   "execution_count": 38,
   "metadata": {
    "collapsed": false,
    "deletable": true,
    "editable": true
   },
   "outputs": [
    {
     "name": "stdout",
     "output_type": "stream",
     "text": [
      "Downloading http://www.cs.toronto.edu/~kriz/cifar-10-python.tar.gz to ../data/cifar-10-python.tar.gz\n",
      "Extracting tar file\n",
      "Done!\n"
     ]
    }
   ],
   "source": [
    "# CIFAR-10 Dataset\n",
    "train_dataset = dsets.CIFAR10(root='../data/',\n",
    "                               train=True, \n",
    "                               transform=transform,\n",
    "                               download=True)\n",
    "\n",
    "test_dataset = dsets.CIFAR10(root='../data/',\n",
    "                              train=False, \n",
    "                              transform=transforms.ToTensor())\n",
    "\n"
   ]
  },
  {
   "cell_type": "code",
   "execution_count": 39,
   "metadata": {
    "collapsed": true,
    "deletable": true,
    "editable": true
   },
   "outputs": [],
   "source": [
    "# Data Loader (Input Pipeline)\n",
    "train_loader = torch.utils.data.DataLoader(dataset=train_dataset,\n",
    "                                           batch_size=100, \n",
    "                                           shuffle=True)\n",
    "\n",
    "test_loader = torch.utils.data.DataLoader(dataset=test_dataset,\n",
    "                                          batch_size=100, \n",
    "                                          shuffle=False)\n"
   ]
  },
  {
   "cell_type": "code",
   "execution_count": 40,
   "metadata": {
    "collapsed": true,
    "deletable": true,
    "editable": true
   },
   "outputs": [],
   "source": [
    "# 3x3 Convolution\n",
    "def conv3x3(in_channels, out_channels, stride=1):\n",
    "    return nn.Conv2d(in_channels, out_channels, kernel_size=3, \n",
    "                     stride=stride, padding=1, bias=False)\n"
   ]
  },
  {
   "cell_type": "code",
   "execution_count": 41,
   "metadata": {
    "collapsed": true,
    "deletable": true,
    "editable": true
   },
   "outputs": [],
   "source": [
    "# Residual Block\n",
    "class ResidualBlock(nn.Module):\n",
    "    def __init__(self, in_channels, out_channels, stride=1, downsample=None):\n",
    "        super(ResidualBlock, self).__init__()\n",
    "        self.conv1 = conv3x3(in_channels, out_channels, stride)\n",
    "        self.bn1 = nn.BatchNorm2d(out_channels)\n",
    "        self.relu = nn.ReLU(inplace=True)\n",
    "        self.conv2 = conv3x3(out_channels, out_channels)\n",
    "        self.bn2 = nn.BatchNorm2d(out_channels)\n",
    "        self.downsample = downsample\n",
    "        \n",
    "    def forward(self, x):\n",
    "        residual = x\n",
    "        out = self.conv1(x)\n",
    "        out = self.bn1(out)\n",
    "        out = self.relu(out)\n",
    "        out = self.conv2(out)\n",
    "        out = self.bn2(out)\n",
    "        if self.downsample:\n",
    "            residual = self.downsample(x)\n",
    "        out += residual\n",
    "        out = self.relu(out)\n",
    "        return out\n"
   ]
  },
  {
   "cell_type": "code",
   "execution_count": 42,
   "metadata": {
    "collapsed": true,
    "deletable": true,
    "editable": true
   },
   "outputs": [],
   "source": [
    "# ResNet Module\n",
    "class ResNet(nn.Module):\n",
    "    def __init__(self, block, layers, num_classes=10):\n",
    "        super(ResNet, self).__init__()\n",
    "        self.in_channels = 16\n",
    "        self.conv = conv3x3(3, 16)\n",
    "        self.bn = nn.BatchNorm2d(16)\n",
    "        self.relu = nn.ReLU(inplace=True)\n",
    "        self.layer1 = self.make_layer(block, 16, layers[0])\n",
    "        self.layer2 = self.make_layer(block, 32, layers[0], 2)\n",
    "        self.layer3 = self.make_layer(block, 64, layers[1], 2)\n",
    "        self.avg_pool = nn.AvgPool2d(8)\n",
    "        self.fc = nn.Linear(64, num_classes)\n",
    "        \n",
    "    def make_layer(self, block, out_channels, blocks, stride=1):\n",
    "        downsample = None\n",
    "        if (stride != 1) or (self.in_channels != out_channels):\n",
    "            downsample = nn.Sequential(\n",
    "                conv3x3(self.in_channels, out_channels, stride=stride),\n",
    "                nn.BatchNorm2d(out_channels))\n",
    "        layers = []\n",
    "        layers.append(block(self.in_channels, out_channels, stride, downsample))\n",
    "        self.in_channels = out_channels\n",
    "        for i in range(1, blocks):\n",
    "            layers.append(block(out_channels, out_channels))\n",
    "        return nn.Sequential(*layers)\n",
    "    \n",
    "    def forward(self, x):\n",
    "        out = self.conv(x)\n",
    "        out = self.bn(out)\n",
    "        out = self.relu(out)\n",
    "        out = self.layer1(out)\n",
    "        out = self.layer2(out)\n",
    "        out = self.layer3(out)\n",
    "        out = self.avg_pool(out)\n",
    "        out = out.view(out.size(0), -1)\n",
    "        out = self.fc(out)\n",
    "        return out\n"
   ]
  },
  {
   "cell_type": "code",
   "execution_count": 43,
   "metadata": {
    "collapsed": true,
    "deletable": true,
    "editable": true
   },
   "outputs": [],
   "source": [
    "resnet = ResNet(ResidualBlock, [2, 2, 2, 2])"
   ]
  },
  {
   "cell_type": "code",
   "execution_count": 44,
   "metadata": {
    "collapsed": true,
    "deletable": true,
    "editable": true
   },
   "outputs": [],
   "source": [
    "# Loss and Optimizer\n",
    "criterion = nn.CrossEntropyLoss()\n",
    "lr = 0.001\n",
    "optimizer = torch.optim.Adam(resnet.parameters(), lr=lr)"
   ]
  },
  {
   "cell_type": "code",
   "execution_count": 47,
   "metadata": {
    "collapsed": false,
    "deletable": true,
    "editable": true
   },
   "outputs": [
    {
     "name": "stdout",
     "output_type": "stream",
     "text": [
      "Epoch [1/25], Iter [100/500] Loss: 0.7085\n",
      "Epoch [1/25], Iter [200/500] Loss: 0.4810\n",
      "Epoch [1/25], Iter [300/500] Loss: 0.6156\n",
      "Epoch [1/25], Iter [400/500] Loss: 0.5820\n",
      "Epoch [1/25], Iter [500/500] Loss: 0.7056\n",
      "Epoch [2/25], Iter [100/500] Loss: 0.6976\n",
      "Epoch [2/25], Iter [200/500] Loss: 0.7040\n",
      "Epoch [2/25], Iter [300/500] Loss: 0.6183\n",
      "Epoch [2/25], Iter [400/500] Loss: 0.6477\n",
      "Epoch [2/25], Iter [500/500] Loss: 0.6478\n",
      "Epoch [3/25], Iter [100/500] Loss: 0.4870\n",
      "Epoch [3/25], Iter [200/500] Loss: 0.6026\n",
      "Epoch [3/25], Iter [300/500] Loss: 0.7608\n",
      "Epoch [3/25], Iter [400/500] Loss: 0.6777\n",
      "Epoch [3/25], Iter [500/500] Loss: 0.6317\n",
      "Epoch [4/25], Iter [100/500] Loss: 0.7225\n",
      "Epoch [4/25], Iter [200/500] Loss: 0.9548\n",
      "Epoch [4/25], Iter [300/500] Loss: 0.4294\n",
      "Epoch [4/25], Iter [400/500] Loss: 0.5718\n",
      "Epoch [4/25], Iter [500/500] Loss: 0.5480\n",
      "Epoch [5/25], Iter [100/500] Loss: 0.6798\n",
      "Epoch [5/25], Iter [200/500] Loss: 0.5859\n",
      "Epoch [5/25], Iter [300/500] Loss: 0.6270\n",
      "Epoch [5/25], Iter [400/500] Loss: 0.6685\n",
      "Epoch [5/25], Iter [500/500] Loss: 0.4392\n",
      "Epoch [6/25], Iter [100/500] Loss: 0.4743\n",
      "Epoch [6/25], Iter [200/500] Loss: 0.4751\n",
      "Epoch [6/25], Iter [300/500] Loss: 0.4188\n",
      "Epoch [6/25], Iter [400/500] Loss: 0.5591\n",
      "Epoch [6/25], Iter [500/500] Loss: 0.3730\n",
      "Epoch [7/25], Iter [100/500] Loss: 0.5071\n",
      "Epoch [7/25], Iter [200/500] Loss: 0.4793\n",
      "Epoch [7/25], Iter [300/500] Loss: 0.5042\n",
      "Epoch [7/25], Iter [400/500] Loss: 0.4402\n",
      "Epoch [7/25], Iter [500/500] Loss: 0.4025\n",
      "Epoch [8/25], Iter [100/500] Loss: 0.3256\n",
      "Epoch [8/25], Iter [200/500] Loss: 0.2970\n",
      "Epoch [8/25], Iter [300/500] Loss: 0.5524\n",
      "Epoch [8/25], Iter [400/500] Loss: 0.5430\n",
      "Epoch [8/25], Iter [500/500] Loss: 0.4139\n",
      "Epoch [9/25], Iter [100/500] Loss: 0.4878\n",
      "Epoch [9/25], Iter [200/500] Loss: 0.4113\n",
      "Epoch [9/25], Iter [300/500] Loss: 0.4568\n",
      "Epoch [9/25], Iter [400/500] Loss: 0.4114\n",
      "Epoch [9/25], Iter [500/500] Loss: 0.4408\n",
      "Epoch [10/25], Iter [100/500] Loss: 0.3540\n",
      "Epoch [10/25], Iter [200/500] Loss: 0.3459\n",
      "Epoch [10/25], Iter [300/500] Loss: 0.5096\n",
      "Epoch [10/25], Iter [400/500] Loss: 0.3690\n",
      "Epoch [10/25], Iter [500/500] Loss: 0.4499\n",
      "Epoch [11/25], Iter [100/500] Loss: 0.3176\n",
      "Epoch [11/25], Iter [200/500] Loss: 0.4898\n",
      "Epoch [11/25], Iter [300/500] Loss: 0.4162\n",
      "Epoch [11/25], Iter [400/500] Loss: 0.3451\n",
      "Epoch [11/25], Iter [500/500] Loss: 0.3638\n",
      "Epoch [12/25], Iter [100/500] Loss: 0.4247\n",
      "Epoch [12/25], Iter [200/500] Loss: 0.4085\n",
      "Epoch [12/25], Iter [300/500] Loss: 0.3145\n",
      "Epoch [12/25], Iter [400/500] Loss: 0.3131\n",
      "Epoch [12/25], Iter [500/500] Loss: 0.3984\n",
      "Epoch [13/25], Iter [100/500] Loss: 0.3762\n",
      "Epoch [13/25], Iter [200/500] Loss: 0.5963\n",
      "Epoch [13/25], Iter [300/500] Loss: 0.6903\n",
      "Epoch [13/25], Iter [400/500] Loss: 0.3494\n",
      "Epoch [13/25], Iter [500/500] Loss: 0.2521\n",
      "Epoch [14/25], Iter [100/500] Loss: 0.3428\n",
      "Epoch [14/25], Iter [200/500] Loss: 0.4183\n",
      "Epoch [14/25], Iter [300/500] Loss: 0.3598\n",
      "Epoch [14/25], Iter [400/500] Loss: 0.4023\n",
      "Epoch [14/25], Iter [500/500] Loss: 0.3850\n",
      "Epoch [15/25], Iter [100/500] Loss: 0.5746\n",
      "Epoch [15/25], Iter [200/500] Loss: 0.3936\n",
      "Epoch [15/25], Iter [300/500] Loss: 0.3877\n",
      "Epoch [15/25], Iter [400/500] Loss: 0.3914\n",
      "Epoch [15/25], Iter [500/500] Loss: 0.3447\n",
      "Epoch [16/25], Iter [100/500] Loss: 0.4627\n",
      "Epoch [16/25], Iter [200/500] Loss: 0.3160\n",
      "Epoch [16/25], Iter [300/500] Loss: 0.3918\n",
      "Epoch [16/25], Iter [400/500] Loss: 0.4041\n",
      "Epoch [16/25], Iter [500/500] Loss: 0.2031\n",
      "Epoch [17/25], Iter [100/500] Loss: 0.3521\n",
      "Epoch [17/25], Iter [200/500] Loss: 0.4630\n",
      "Epoch [17/25], Iter [300/500] Loss: 0.2464\n",
      "Epoch [17/25], Iter [400/500] Loss: 0.3346\n",
      "Epoch [17/25], Iter [500/500] Loss: 0.2593\n",
      "Epoch [18/25], Iter [100/500] Loss: 0.2915\n",
      "Epoch [18/25], Iter [200/500] Loss: 0.5358\n",
      "Epoch [18/25], Iter [300/500] Loss: 0.4247\n",
      "Epoch [18/25], Iter [400/500] Loss: 0.4351\n",
      "Epoch [18/25], Iter [500/500] Loss: 0.2964\n",
      "Epoch [19/25], Iter [100/500] Loss: 0.2822\n",
      "Epoch [19/25], Iter [200/500] Loss: 0.4567\n",
      "Epoch [19/25], Iter [300/500] Loss: 0.3773\n",
      "Epoch [19/25], Iter [400/500] Loss: 0.4482\n",
      "Epoch [19/25], Iter [500/500] Loss: 0.3105\n",
      "Epoch [20/25], Iter [100/500] Loss: 0.2645\n",
      "Epoch [20/25], Iter [200/500] Loss: 0.4355\n",
      "Epoch [20/25], Iter [300/500] Loss: 0.2788\n",
      "Epoch [20/25], Iter [400/500] Loss: 0.2229\n",
      "Epoch [20/25], Iter [500/500] Loss: 0.3833\n",
      "Epoch [21/25], Iter [100/500] Loss: 0.3214\n",
      "Epoch [21/25], Iter [200/500] Loss: 0.4895\n",
      "Epoch [21/25], Iter [300/500] Loss: 0.3694\n",
      "Epoch [21/25], Iter [400/500] Loss: 0.4031\n",
      "Epoch [21/25], Iter [500/500] Loss: 0.3038\n",
      "Epoch [22/25], Iter [100/500] Loss: 0.3830\n",
      "Epoch [22/25], Iter [200/500] Loss: 0.2655\n",
      "Epoch [22/25], Iter [300/500] Loss: 0.3437\n",
      "Epoch [22/25], Iter [400/500] Loss: 0.2748\n",
      "Epoch [22/25], Iter [500/500] Loss: 0.3778\n",
      "Epoch [23/25], Iter [100/500] Loss: 0.2762\n",
      "Epoch [23/25], Iter [200/500] Loss: 0.3874\n",
      "Epoch [23/25], Iter [300/500] Loss: 0.3793\n",
      "Epoch [23/25], Iter [400/500] Loss: 0.4827\n",
      "Epoch [23/25], Iter [500/500] Loss: 0.2808\n",
      "Epoch [24/25], Iter [100/500] Loss: 0.2771\n",
      "Epoch [24/25], Iter [200/500] Loss: 0.4203\n",
      "Epoch [24/25], Iter [300/500] Loss: 0.3053\n",
      "Epoch [24/25], Iter [400/500] Loss: 0.3646\n",
      "Epoch [24/25], Iter [500/500] Loss: 0.3645\n",
      "Epoch [25/25], Iter [100/500] Loss: 0.2783\n",
      "Epoch [25/25], Iter [200/500] Loss: 0.3089\n",
      "Epoch [25/25], Iter [300/500] Loss: 0.3906\n",
      "Epoch [25/25], Iter [400/500] Loss: 0.2758\n",
      "Epoch [25/25], Iter [500/500] Loss: 0.3557\n"
     ]
    }
   ],
   "source": [
    "# Training \n",
    "for epoch in range(25):\n",
    "    for i, (images, labels) in enumerate(train_loader):\n",
    "        images = Variable(images)\n",
    "        labels = Variable(labels)\n",
    "        \n",
    "        # Forward + Backward + Optimize\n",
    "        optimizer.zero_grad()\n",
    "        outputs = resnet(images)\n",
    "        loss = criterion(outputs, labels)\n",
    "        loss.backward()\n",
    "        optimizer.step()\n",
    "        \n",
    "        if (i+1) % 100 == 0:\n",
    "            print (\"Epoch [%d/%d], Iter [%d/%d] Loss: %.4f\" %(epoch+1, 25, i+1, 500, loss.data[0]))\n",
    "\n",
    "    # Decaying Learning Rate\n",
    "    if (epoch+1) % 5 == 0:\n",
    "        lr /= 3\n",
    "        optimizer = torch.optim.Adam(resnet.parameters(), lr=lr) \n"
   ]
  },
  {
   "cell_type": "code",
   "execution_count": 48,
   "metadata": {
    "collapsed": false,
    "deletable": true,
    "editable": true
   },
   "outputs": [
    {
     "name": "stdout",
     "output_type": "stream",
     "text": [
      "Accuracy of the model on the test images: 83 %\n"
     ]
    }
   ],
   "source": [
    "# Test\n",
    "correct = 0\n",
    "total = 0\n",
    "for images, labels in test_loader:\n",
    "    images = Variable(images)\n",
    "    outputs = resnet(images)\n",
    "    _, predicted = torch.max(outputs.data, 1)\n",
    "    total += labels.size(0)\n",
    "    correct += (predicted == labels).sum()\n",
    "\n",
    "print('Accuracy of the model on the test images: %d %%' % (100 * correct / total))\n"
   ]
  },
  {
   "cell_type": "code",
   "execution_count": 49,
   "metadata": {
    "collapsed": true,
    "deletable": true,
    "editable": true
   },
   "outputs": [],
   "source": [
    "import torch \n",
    "import torch.nn as nn\n",
    "import torchvision.datasets as dsets\n",
    "import torchvision.transforms as transforms\n",
    "from torch.autograd import Variable\n"
   ]
  },
  {
   "cell_type": "code",
   "execution_count": 50,
   "metadata": {
    "collapsed": false,
    "deletable": true,
    "editable": true
   },
   "outputs": [],
   "source": [
    "# Hyper Parameters\n",
    "sequence_length = 28\n",
    "input_size = 28\n",
    "hidden_size = 128\n",
    "num_layers = 2\n",
    "num_classes = 10\n",
    "batch_size = 100\n",
    "num_epochs = 2\n",
    "learning_rate = 0.01\n"
   ]
  },
  {
   "cell_type": "code",
   "execution_count": 52,
   "metadata": {
    "collapsed": false,
    "deletable": true,
    "editable": true
   },
   "outputs": [
    {
     "name": "stdout",
     "output_type": "stream",
     "text": [
      "Files already downloaded\n"
     ]
    }
   ],
   "source": [
    "# MNIST Dataset\n",
    "train_dataset = dsets.MNIST(root='../data/',\n",
    "                            train=True, \n",
    "                            transform=transforms.ToTensor(),\n",
    "                            download=True)\n",
    "\n",
    "test_dataset = dsets.MNIST(root='../data/',\n",
    "                           train=False, \n",
    "                           transform=transforms.ToTensor())\n"
   ]
  },
  {
   "cell_type": "code",
   "execution_count": 53,
   "metadata": {
    "collapsed": false,
    "deletable": true,
    "editable": true
   },
   "outputs": [],
   "source": [
    "# Data Loader (Input Pipeline)\n",
    "train_loader = torch.utils.data.DataLoader(dataset=train_dataset,\n",
    "                                           batch_size=batch_size, \n",
    "                                           shuffle=True)\n",
    "\n",
    "test_loader = torch.utils.data.DataLoader(dataset=test_dataset,\n",
    "                                          batch_size=batch_size, \n",
    "                                          shuffle=False)\n"
   ]
  },
  {
   "cell_type": "code",
   "execution_count": 54,
   "metadata": {
    "collapsed": true,
    "deletable": true,
    "editable": true
   },
   "outputs": [],
   "source": [
    "# RNN Model (Many-to-One)\n",
    "class RNN(nn.Module):\n",
    "    def __init__(self, input_size, hidden_size, num_layers, num_classes):\n",
    "        super(RNN, self).__init__()\n",
    "        self.hidden_size = hidden_size\n",
    "        self.num_layers = num_layers\n",
    "        self.lstm = nn.LSTM(input_size, hidden_size, num_layers, batch_first=True)\n",
    "        self.fc = nn.Linear(hidden_size, num_classes)\n",
    "    \n",
    "    def forward(self, x):\n",
    "        # Set initial states \n",
    "        h0 = Variable(torch.zeros(self.num_layers, x.size(0), self.hidden_size)) \n",
    "        c0 = Variable(torch.zeros(self.num_layers, x.size(0), self.hidden_size))\n",
    "        \n",
    "        # Forward propagate RNN\n",
    "        out, _ = self.lstm(x, (h0, c0))  \n",
    "        \n",
    "        # Decode hidden state of last time step\n",
    "        out = self.fc(out[:, -1, :])  \n",
    "        return out\n"
   ]
  },
  {
   "cell_type": "code",
   "execution_count": 55,
   "metadata": {
    "collapsed": true,
    "deletable": true,
    "editable": true
   },
   "outputs": [],
   "source": [
    "rnn = RNN(input_size, hidden_size, num_layers, num_classes)\n"
   ]
  },
  {
   "cell_type": "code",
   "execution_count": 56,
   "metadata": {
    "collapsed": true,
    "deletable": true,
    "editable": true
   },
   "outputs": [],
   "source": [
    "# Loss and Optimizer\n",
    "criterion = nn.CrossEntropyLoss()\n",
    "optimizer = torch.optim.Adam(rnn.parameters(), lr=learning_rate)\n"
   ]
  },
  {
   "cell_type": "code",
   "execution_count": 57,
   "metadata": {
    "collapsed": false,
    "deletable": true,
    "editable": true
   },
   "outputs": [
    {
     "name": "stdout",
     "output_type": "stream",
     "text": [
      "Epoch [1/2], Step [100/600], Loss: 0.5438\n",
      "Epoch [1/2], Step [200/600], Loss: 0.3616\n",
      "Epoch [1/2], Step [300/600], Loss: 0.1673\n",
      "Epoch [1/2], Step [400/600], Loss: 0.3234\n",
      "Epoch [1/2], Step [500/600], Loss: 0.0999\n",
      "Epoch [1/2], Step [600/600], Loss: 0.1208\n",
      "Epoch [2/2], Step [100/600], Loss: 0.1724\n",
      "Epoch [2/2], Step [200/600], Loss: 0.2256\n",
      "Epoch [2/2], Step [300/600], Loss: 0.1278\n",
      "Epoch [2/2], Step [400/600], Loss: 0.1103\n",
      "Epoch [2/2], Step [500/600], Loss: 0.1295\n",
      "Epoch [2/2], Step [600/600], Loss: 0.1743\n"
     ]
    }
   ],
   "source": [
    "# Train the Model\n",
    "for epoch in range(num_epochs):\n",
    "    for i, (images, labels) in enumerate(train_loader):\n",
    "        images = Variable(images.view(-1, sequence_length, input_size))\n",
    "        labels = Variable(labels)\n",
    "        \n",
    "        # Forward + Backward + Optimize\n",
    "        optimizer.zero_grad()\n",
    "        outputs = rnn(images)\n",
    "        loss = criterion(outputs, labels)\n",
    "        loss.backward()\n",
    "        optimizer.step()\n",
    "        \n",
    "        if (i+1) % 100 == 0:\n",
    "            print ('Epoch [%d/%d], Step [%d/%d], Loss: %.4f' \n",
    "                   %(epoch+1, num_epochs, i+1, len(train_dataset)//batch_size, loss.data[0]))\n"
   ]
  },
  {
   "cell_type": "code",
   "execution_count": 59,
   "metadata": {
    "collapsed": false,
    "deletable": true,
    "editable": true
   },
   "outputs": [
    {
     "name": "stdout",
     "output_type": "stream",
     "text": [
      "Test Accuracy of the model on the 10000 test images: 97 %\n"
     ]
    }
   ],
   "source": [
    "# Test the Model\n",
    "correct = 0\n",
    "total = 0\n",
    "for images, labels in test_loader:\n",
    "    images = Variable(images.view(-1, sequence_length, input_size))\n",
    "    outputs = rnn(images)\n",
    "    _, predicted = torch.max(outputs.data, 1)\n",
    "    total += labels.size(0)\n",
    "    correct += (predicted == labels).sum()\n",
    "    \n",
    "print('Test Accuracy of the model on the 10000 test images: %d %%' % (100 * correct / total)) \n"
   ]
  },
  {
   "cell_type": "code",
   "execution_count": 3,
   "metadata": {
    "collapsed": false,
    "deletable": true,
    "editable": true
   },
   "outputs": [],
   "source": [
    "import torch \n",
    "import torch.nn as nn\n",
    "import numpy as np\n",
    "from torch.autograd import Variable\n",
    "import os\n"
   ]
  },
  {
   "cell_type": "code",
   "execution_count": 7,
   "metadata": {
    "collapsed": true
   },
   "outputs": [],
   "source": [
    "class Dictionary(object):\n",
    "    def __init__(self):\n",
    "        self.word2idx = {}\n",
    "        self.idx2word = {}\n",
    "        self.idx = 0\n",
    "    \n",
    "    def add_word(self, word):\n",
    "        if not word in self.word2idx:\n",
    "            self.word2idx[word] = self.idx\n",
    "            self.idx2word[self.idx] = word\n",
    "            self.idx += 1\n",
    "    \n",
    "    def __len__(self):\n",
    "        return len(self.word2idx)\n",
    "    \n",
    "class Corpus(object):\n",
    "    def __init__(self, path='./data'):\n",
    "        self.dictionary = Dictionary()\n",
    "        self.train = os.path.join(path, 'train.txt')\n",
    "        self.test = os.path.join(path, 'test.txt')\n",
    "\n",
    "    def get_data(self, path, batch_size=20):\n",
    "        # Add words to the dictionary\n",
    "        with open(path, 'r') as f:\n",
    "            tokens = 0\n",
    "            for line in f:\n",
    "                words = line.split() + ['<eos>']\n",
    "                tokens += len(words)\n",
    "                for word in words: \n",
    "                    self.dictionary.add_word(word)  \n",
    "        \n",
    "        # Tokenize the file content\n",
    "        ids = torch.LongTensor(tokens)\n",
    "        token = 0\n",
    "        with open(path, 'r') as f:\n",
    "            for line in f:\n",
    "                words = line.split() + ['<eos>']\n",
    "                for word in words:\n",
    "                    ids[token] = self.dictionary.word2idx[word]\n",
    "                    token += 1\n",
    "        num_batches = ids.size(0) // batch_size\n",
    "        ids = ids[:num_batches*batch_size]\n",
    "        return ids.view(batch_size, -1)\n",
    "    \n",
    "# RNN Based Language Model\n",
    "class RNNLM(nn.Module):\n",
    "    def __init__(self, vocab_size, embed_size, hidden_size, num_layers):\n",
    "        super(RNNLM, self).__init__()\n",
    "        self.embed = nn.Embedding(vocab_size, embed_size)\n",
    "        self.lstm = nn.LSTM(embed_size, hidden_size, num_layers, batch_first=True)\n",
    "        self.linear = nn.Linear(hidden_size, vocab_size)\n",
    "        self.init_weights()\n",
    "        \n",
    "    def init_weights(self):\n",
    "        self.embed.weight.data.uniform_(-0.1, 0.1)\n",
    "        self.linear.bias.data.fill_(0)\n",
    "        self.linear.weight.data.uniform_(-0.1, 0.1)\n",
    "        \n",
    "    def forward(self, x, h):\n",
    "        # Embed word ids to vectors\n",
    "        x = self.embed(x) \n",
    "        \n",
    "        # Forward propagate RNN  \n",
    "        out, h = self.lstm(x, h)\n",
    "        \n",
    "        # Reshape output to (batch_size*sequence_length, hidden_size)\n",
    "        out = out.contiguous().view(out.size(0)*out.size(1), out.size(2))\n",
    "        \n",
    "        # Decode hidden states of all time step\n",
    "        out = self.linear(out)  \n",
    "        return out, h\n"
   ]
  },
  {
   "cell_type": "code",
   "execution_count": 5,
   "metadata": {
    "collapsed": true,
    "deletable": true,
    "editable": true
   },
   "outputs": [],
   "source": [
    "# Hyper Parameters\n",
    "embed_size = 128\n",
    "hidden_size = 1024\n",
    "num_layers = 1\n",
    "num_epochs = 5\n",
    "num_samples = 1000   # number of words to be sampled\n",
    "batch_size = 20\n",
    "seq_length = 30\n",
    "learning_rate = 0.002"
   ]
  },
  {
   "cell_type": "code",
   "execution_count": 6,
   "metadata": {
    "collapsed": true
   },
   "outputs": [],
   "source": [
    "# Load Penn Treebank Dataset\n",
    "train_path = './data/train.txt'\n",
    "sample_path = './sample.txt'\n",
    "corpus = Corpus()\n",
    "ids = corpus.get_data(train_path, batch_size)\n",
    "vocab_size = len(corpus.dictionary)\n",
    "num_batches = ids.size(1) // seq_length\n"
   ]
  },
  {
   "cell_type": "code",
   "execution_count": 8,
   "metadata": {
    "collapsed": true
   },
   "outputs": [],
   "source": [
    "model = RNNLM(vocab_size, embed_size, hidden_size, num_layers)\n",
    "\n",
    "# Loss and Optimizer\n",
    "criterion = nn.CrossEntropyLoss()\n",
    "optimizer = torch.optim.Adam(model.parameters(), lr=learning_rate)"
   ]
  },
  {
   "cell_type": "code",
   "execution_count": 9,
   "metadata": {
    "collapsed": true
   },
   "outputs": [],
   "source": [
    "# Truncated Backpropagation \n",
    "def detach(states):\n",
    "    return [Variable(state.data) for state in states] \n"
   ]
  },
  {
   "cell_type": "code",
   "execution_count": 10,
   "metadata": {
    "collapsed": false
   },
   "outputs": [
    {
     "name": "stdout",
     "output_type": "stream",
     "text": [
      "Epoch [1/5], Step[0/1549], Loss: 9.212, Perplexity: 10012.28\n",
      "Epoch [1/5], Step[100/1549], Loss: 6.026, Perplexity: 414.23\n",
      "Epoch [1/5], Step[200/1549], Loss: 5.932, Perplexity: 376.74\n",
      "Epoch [1/5], Step[300/1549], Loss: 5.804, Perplexity: 331.55\n",
      "Epoch [1/5], Step[400/1549], Loss: 5.696, Perplexity: 297.77\n",
      "Epoch [1/5], Step[500/1549], Loss: 5.142, Perplexity: 171.08\n",
      "Epoch [1/5], Step[600/1549], Loss: 5.206, Perplexity: 182.31\n",
      "Epoch [1/5], Step[700/1549], Loss: 5.402, Perplexity: 221.81\n",
      "Epoch [1/5], Step[800/1549], Loss: 5.212, Perplexity: 183.39\n",
      "Epoch [1/5], Step[900/1549], Loss: 5.108, Perplexity: 165.26\n",
      "Epoch [1/5], Step[1000/1549], Loss: 5.165, Perplexity: 174.96\n",
      "Epoch [1/5], Step[1100/1549], Loss: 5.335, Perplexity: 207.46\n",
      "Epoch [1/5], Step[1200/1549], Loss: 5.166, Perplexity: 175.21\n",
      "Epoch [1/5], Step[1300/1549], Loss: 5.094, Perplexity: 163.09\n",
      "Epoch [1/5], Step[1400/1549], Loss: 4.825, Perplexity: 124.56\n",
      "Epoch [1/5], Step[1500/1549], Loss: 5.181, Perplexity: 177.91\n",
      "Epoch [2/5], Step[0/1549], Loss: 5.499, Perplexity: 244.40\n",
      "Epoch [2/5], Step[100/1549], Loss: 4.677, Perplexity: 107.47\n",
      "Epoch [2/5], Step[200/1549], Loss: 4.745, Perplexity: 115.01\n",
      "Epoch [2/5], Step[300/1549], Loss: 4.867, Perplexity: 129.97\n",
      "Epoch [2/5], Step[400/1549], Loss: 4.733, Perplexity: 113.58\n",
      "Epoch [2/5], Step[500/1549], Loss: 4.242, Perplexity: 69.52\n",
      "Epoch [2/5], Step[600/1549], Loss: 4.556, Perplexity: 95.23\n",
      "Epoch [2/5], Step[700/1549], Loss: 4.592, Perplexity: 98.67\n",
      "Epoch [2/5], Step[800/1549], Loss: 4.538, Perplexity: 93.53\n",
      "Epoch [2/5], Step[900/1549], Loss: 4.439, Perplexity: 84.68\n",
      "Epoch [2/5], Step[1000/1549], Loss: 4.473, Perplexity: 87.60\n",
      "Epoch [2/5], Step[1100/1549], Loss: 4.731, Perplexity: 113.41\n",
      "Epoch [2/5], Step[1200/1549], Loss: 4.598, Perplexity: 99.27\n",
      "Epoch [2/5], Step[1300/1549], Loss: 4.428, Perplexity: 83.73\n",
      "Epoch [2/5], Step[1400/1549], Loss: 4.120, Perplexity: 61.56\n",
      "Epoch [2/5], Step[1500/1549], Loss: 4.476, Perplexity: 87.88\n",
      "Epoch [3/5], Step[0/1549], Loss: 4.807, Perplexity: 122.42\n",
      "Epoch [3/5], Step[100/1549], Loss: 4.076, Perplexity: 58.88\n",
      "Epoch [3/5], Step[200/1549], Loss: 4.187, Perplexity: 65.81\n",
      "Epoch [3/5], Step[300/1549], Loss: 4.196, Perplexity: 66.41\n",
      "Epoch [3/5], Step[400/1549], Loss: 4.096, Perplexity: 60.11\n",
      "Epoch [3/5], Step[500/1549], Loss: 3.688, Perplexity: 39.97\n",
      "Epoch [3/5], Step[600/1549], Loss: 4.085, Perplexity: 59.44\n",
      "Epoch [3/5], Step[700/1549], Loss: 4.015, Perplexity: 55.40\n",
      "Epoch [3/5], Step[800/1549], Loss: 4.024, Perplexity: 55.91\n",
      "Epoch [3/5], Step[900/1549], Loss: 3.834, Perplexity: 46.22\n",
      "Epoch [3/5], Step[1000/1549], Loss: 3.944, Perplexity: 51.63\n",
      "Epoch [3/5], Step[1100/1549], Loss: 4.185, Perplexity: 65.72\n",
      "Epoch [3/5], Step[1200/1549], Loss: 4.083, Perplexity: 59.30\n",
      "Epoch [3/5], Step[1300/1549], Loss: 3.829, Perplexity: 46.02\n",
      "Epoch [3/5], Step[1400/1549], Loss: 3.555, Perplexity: 35.00\n",
      "Epoch [3/5], Step[1500/1549], Loss: 3.865, Perplexity: 47.69\n",
      "Epoch [4/5], Step[0/1549], Loss: 4.122, Perplexity: 61.70\n",
      "Epoch [4/5], Step[100/1549], Loss: 3.587, Perplexity: 36.12\n",
      "Epoch [4/5], Step[200/1549], Loss: 3.753, Perplexity: 42.65\n",
      "Epoch [4/5], Step[300/1549], Loss: 3.748, Perplexity: 42.42\n",
      "Epoch [4/5], Step[400/1549], Loss: 3.622, Perplexity: 37.40\n",
      "Epoch [4/5], Step[500/1549], Loss: 3.247, Perplexity: 25.71\n",
      "Epoch [4/5], Step[600/1549], Loss: 3.701, Perplexity: 40.49\n",
      "Epoch [4/5], Step[700/1549], Loss: 3.567, Perplexity: 35.40\n",
      "Epoch [4/5], Step[800/1549], Loss: 3.623, Perplexity: 37.44\n",
      "Epoch [4/5], Step[900/1549], Loss: 3.309, Perplexity: 27.36\n",
      "Epoch [4/5], Step[1000/1549], Loss: 3.443, Perplexity: 31.28\n",
      "Epoch [4/5], Step[1100/1549], Loss: 3.693, Perplexity: 40.16\n",
      "Epoch [4/5], Step[1200/1549], Loss: 3.550, Perplexity: 34.82\n",
      "Epoch [4/5], Step[1300/1549], Loss: 3.357, Perplexity: 28.71\n",
      "Epoch [4/5], Step[1400/1549], Loss: 3.034, Perplexity: 20.78\n",
      "Epoch [4/5], Step[1500/1549], Loss: 3.437, Perplexity: 31.10\n",
      "Epoch [5/5], Step[0/1549], Loss: 3.606, Perplexity: 36.83\n",
      "Epoch [5/5], Step[100/1549], Loss: 3.218, Perplexity: 24.97\n",
      "Epoch [5/5], Step[200/1549], Loss: 3.296, Perplexity: 27.00\n",
      "Epoch [5/5], Step[300/1549], Loss: 3.320, Perplexity: 27.67\n",
      "Epoch [5/5], Step[400/1549], Loss: 3.336, Perplexity: 28.11\n",
      "Epoch [5/5], Step[500/1549], Loss: 2.929, Perplexity: 18.70\n",
      "Epoch [5/5], Step[600/1549], Loss: 3.399, Perplexity: 29.93\n",
      "Epoch [5/5], Step[700/1549], Loss: 3.214, Perplexity: 24.87\n",
      "Epoch [5/5], Step[800/1549], Loss: 3.265, Perplexity: 26.18\n",
      "Epoch [5/5], Step[900/1549], Loss: 3.012, Perplexity: 20.33\n",
      "Epoch [5/5], Step[1000/1549], Loss: 3.139, Perplexity: 23.09\n",
      "Epoch [5/5], Step[1100/1549], Loss: 3.315, Perplexity: 27.51\n",
      "Epoch [5/5], Step[1200/1549], Loss: 3.285, Perplexity: 26.71\n",
      "Epoch [5/5], Step[1300/1549], Loss: 3.069, Perplexity: 21.51\n",
      "Epoch [5/5], Step[1400/1549], Loss: 2.705, Perplexity: 14.96\n",
      "Epoch [5/5], Step[1500/1549], Loss: 3.118, Perplexity: 22.60\n"
     ]
    }
   ],
   "source": [
    "# Training\n",
    "for epoch in range(num_epochs):\n",
    "    # Initial hidden and memory states\n",
    "    states = (Variable(torch.zeros(num_layers, batch_size, hidden_size)),\n",
    "              Variable(torch.zeros(num_layers, batch_size, hidden_size)))\n",
    "    \n",
    "    for i in range(0, ids.size(1) - seq_length, seq_length):\n",
    "        # Get batch inputs and targets\n",
    "        inputs = Variable(ids[:, i:i+seq_length])\n",
    "        targets = Variable(ids[:, (i+1):(i+1)+seq_length].contiguous())\n",
    "        \n",
    "        # Forward + Backward + Optimize\n",
    "        model.zero_grad()\n",
    "        states = detach(states)\n",
    "        outputs, states = model(inputs, states) \n",
    "        loss = criterion(outputs, targets.view(-1))\n",
    "        loss.backward()\n",
    "        torch.nn.utils.clip_grad_norm(model.parameters(), 0.5)\n",
    "        optimizer.step()\n",
    "\n",
    "        step = (i+1) // seq_length\n",
    "        if step % 100 == 0:\n",
    "            print ('Epoch [%d/%d], Step[%d/%d], Loss: %.3f, Perplexity: %5.2f' %\n",
    "                   (epoch+1, num_epochs, step, num_batches, loss.data[0], np.exp(loss.data[0])))\n"
   ]
  },
  {
   "cell_type": "code",
   "execution_count": 13,
   "metadata": {
    "collapsed": false
   },
   "outputs": [
    {
     "name": "stdout",
     "output_type": "stream",
     "text": [
      "version <unk> who jones chairman dennis <unk> r. utah in a position in N after he was a <unk> \n",
      "most former chairmen had <unk> been called <unk> for N most years ago at the agency and its <unk> texas energy operation \n",
      "so far crunch can close to de new job and also <unk> their own wives \n",
      "it can even maintain its music above it \n",
      "<unk> is the crown prince and <unk> operation supermarket & <unk> \n",
      "common <unk> prosecutors featured a $ <unk> a <unk> <unk> <unk> to a design when a treatment made a stronger debate toward <unk> <unk> in N \n",
      "for everyone frightened it was to leave it clear even \n",
      "i would n't find who readers are going into all scenes going off or even never yet to be abc or <unk> to baltimore \n",
      "eventually they <unk> he says \n",
      "though it continues to convey that schedules into the basic system still <unk> protein to post which were one of many <unk> students expectations and federal <unk> salaries after the third game after the time \n",
      "the league is to draw someone again when you will buy \n",
      "or eight season left the winner \n",
      "besides resources the <unk> has held a loss of $ N or almost tell cbs news \n",
      "meanwhile as in N it seemed to be will share the scenes without certain this for the ninth to $ N a share \n",
      "the chairman real estate of the sponsors said <unk> by a <unk> <unk> institution became a <unk> of employee business magazine <unk> <unk> a <unk> mass. <unk> ranges from a boring <unk> and N sports <unk> at a <unk> news conference call apples their productions \n",
      "ad was n't fully cut mr. jones 's successor says \n",
      "these days <unk> <unk> consider a <unk> note that was on an shop magazine \n",
      "the novel is the most four key to mr. roman is a black appreciation \n",
      "mr. wood says and his latest has a commercial bank on the project \n",
      "with the heart news ogilvy that <unk> the navy broadcast with a <unk> post that makes <unk> in texas and a tough east germany which is several cbs networks \n",
      "mr. <unk> 's ogilvy could succeed arthur l. \n",
      "jerry brown \n",
      "keeping the giants giants spend $ N million were on mr. <unk> <unk> a <unk> salesman & <unk> walking into the better than a year 's N <unk> \n",
      "<unk> <unk> was named to an lotus suitable telephone group mr. <unk> takes control \n",
      "a combined with a bank to settle the newly hired customers as chief executive \n",
      "ogilvy & mather has a top of them in N but was in such ventures as a blow and a rival of italian airlines a producer for the houston box firm of chicago-based connaught <unk> \n",
      "in the case sony will pay $ N in each case on an <unk> flow to about N executives of <unk> of california \n",
      "by contrast they have a hard way and that even less commercial and provide our presence the <unk> with what has to be made \n",
      "i 'm going to be selling for college until N N to manage quite voluntarily \n",
      "factory stadium has finally gotten active in minnesota \n",
      "this is another garden <unk> <unk> rocks stories about bonn 's nbc news stories about N rooms advertising \n",
      "they 're N N asbestos per in south and that from naturally great \n",
      "some former growers notably the mouse chapter may took the <unk> season \n",
      "the league is in <unk> that she was assistant of the baseball act on old <unk> and high scientists <unk> <unk> and a beer magazine <unk> \n",
      "mr. <unk> was a <unk> copies from several other three questions at the wine now on the <unk> projection \n",
      "<unk> interviewed afternoon and <unk> journalism went back to their <unk> \n",
      "but while most one <unk> off with a television news the first members of a new series of today took a city effort to communist european news at the <unk> museum troop to N people marched to N N the last season with the virus \n",
      "he 's recalls the team <unk> baseball altogether publicity became missing in his institute as collateral were n't just walking out \n",
      "although the manager made a nearly <unk> interesting party he 'd night \n",
      "he will definitely remember the new red \n",
      "ms. chung 's withdrawal is the nfl time \n",
      "i 'm not all man life we 'll be moved at another time their house says no surprise \n",
      "<unk> makes it bobby <unk> walking me as as a television definition \n",
      "instead posting it how rep. filters sells the <unk> for a <unk> post \n",
      "in the suit to its mother <unk> her husband <unk> johnson 's <unk> proposed series N affair abc news news for a <unk> owners contest about design sports camp actors off the sweat \n",
      "at a weather this magazine he <unk> first phillips to a <unk> court camp at cbs news around dean football fifth and <unk> both as bobby thomson was texas as the tire master \n",
      "and in the league he pledged to seem <unk> by news news news wires at the game manager president de <unk> <unk> news reports saying he were present \n",
      "<unk> m. jerry a <unk> student <unk> <unk> the <unk> dream of the longer and bobby thomson was a <unk> company well-known mr. <unk> at the university of puerto rico to fill his team struck \n",
      "N years old after it absorbed \n",
      "along with <unk> fiber when it was easy to <unk> that \n",
      "only after a giant exhibition the <unk> national jailed <unk> a huge blue <unk> in the hole immediately for <unk> the 1980s \n",
      "the <unk> black market <unk> me to express \n",
      "just cbs started into second the american express job mr. \n"
     ]
    }
   ],
   "source": [
    "# Sampling\n",
    "with open(sample_path, 'w') as f:\n",
    "    # Set intial hidden ane memory states\n",
    "    state = (Variable(torch.zeros(num_layers, 1, hidden_size)),\n",
    "         Variable(torch.zeros(num_layers, 1, hidden_size)))\n",
    "\n",
    "    # Select one word id randomly\n",
    "    prob = torch.ones(vocab_size)\n",
    "    input = Variable(torch.multinomial(prob, num_samples=1).unsqueeze(1),\n",
    "                     volatile=True)\n",
    "    s = \"\"\n",
    "    for i in range(num_samples):\n",
    "        # Forward propagate rnn \n",
    "        output, state = model(input, state)\n",
    "        \n",
    "        # Sample a word id\n",
    "        prob = output.squeeze().data.exp()\n",
    "        word_id = torch.multinomial(prob, 1)[0]\n",
    "        \n",
    "        # Feed sampled word id to next time step\n",
    "        input.data.fill_(word_id)\n",
    "        \n",
    "        # File write\n",
    "        word = corpus.dictionary.idx2word[word_id]\n",
    "        word = '\\n' if word == '<eos>' else word + ' '\n",
    "        s += word\n",
    "    print (s)\n"
   ]
  },
  {
   "cell_type": "code",
   "execution_count": null,
   "metadata": {
    "collapsed": true
   },
   "outputs": [],
   "source": []
  }
 ],
 "metadata": {
  "kernelspec": {
   "display_name": "Python 3",
   "language": "python",
   "name": "python3"
  },
  "language_info": {
   "codemirror_mode": {
    "name": "ipython",
    "version": 3
   },
   "file_extension": ".py",
   "mimetype": "text/x-python",
   "name": "python",
   "nbconvert_exporter": "python",
   "pygments_lexer": "ipython3",
   "version": "3.6.0"
  }
 },
 "nbformat": 4,
 "nbformat_minor": 2
}
